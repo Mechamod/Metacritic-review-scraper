{
 "cells": [
  {
   "cell_type": "markdown",
   "metadata": {},
   "source": [
    "# User-Agent Scraper\n",
    "\n",
    "A small scraper that creates a list of user-agent string for further using (especially for scraping, so we are not that likely to get blocked). The user-agent strings get scraped from https://udger.com/resources/ua-list. The program works on BeautifulSoup 4 and pandas for the dataframe. Workflow is like follows:\n",
    "  \n",
    "1. Get a list of available browsers and define a list of the ones we want to use.\n",
    "2. Open each of these Browser user-agent sites.\n",
    "3. Scrape all the available user-agents and save all the informaiton in a triple (name, url, user-agent).\n",
    "4. Write them into a dataframe\n",
    "  \n",
    "Optionally, implement a helper method that loads this file and outputs a dataframe containing user-agents. So that the UA can easy be used in other programs.\n"
   ]
  },
  {
   "cell_type": "code",
   "execution_count": 1,
   "metadata": {},
   "outputs": [],
   "source": [
    "# Constants\n",
    "UDGER_URL = \"https://udger.com\"\n",
    "BROWSER_LIST_LINK = \"https://udger.com/resources/ua-list\"\n",
    "BROWSER_NAMES = []\n",
    "BROWSER_LINKS = []\n",
    "TRIPLE = []"
   ]
  },
  {
   "cell_type": "code",
   "execution_count": 2,
   "metadata": {},
   "outputs": [
    {
     "data": {
      "application/vnd.jupyter.widget-view+json": {
       "model_id": "bffc4561d26247e4b2371c7c2f2c05bd",
       "version_major": 2,
       "version_minor": 0
      },
      "text/plain": [
       "HBox(children=(FloatProgress(value=1.0, bar_style='info', max=1.0), HTML(value='')))"
      ]
     },
     "metadata": {},
     "output_type": "display_data"
    },
    {
     "name": "stderr",
     "output_type": "stream",
     "text": [
      "/home/tim/anaconda3/lib/python3.7/site-packages/tqdm/std.py:668: FutureWarning: The Panel class is removed from pandas. Accessing it from the top-level namespace will also be removed in the next version\n",
      "  from pandas import Panel\n"
     ]
    }
   ],
   "source": [
    "import requests\n",
    "from bs4 import BeautifulSoup\n",
    "from tqdm.notebook import tqdm\n",
    "import pandas as pd\n",
    "tqdm().pandas()"
   ]
  },
  {
   "cell_type": "markdown",
   "metadata": {},
   "source": [
    "Get a list of all the available browsers with their corresponing links as a tuple so it is easy to loop through it and pick only the ones we want (or all)"
   ]
  },
  {
   "cell_type": "code",
   "execution_count": 3,
   "metadata": {},
   "outputs": [
    {
     "data": {
      "application/vnd.jupyter.widget-view+json": {
       "model_id": "017c7e82c79e439c821e92742ba0d6b4",
       "version_major": 2,
       "version_minor": 0
      },
      "text/plain": [
       "HBox(children=(FloatProgress(value=0.0, max=2903.0), HTML(value='')))"
      ]
     },
     "metadata": {},
     "output_type": "display_data"
    },
    {
     "name": "stdout",
     "output_type": "stream",
     "text": [
      "\n",
      "200 Browsers found\n"
     ]
    }
   ],
   "source": [
    "page = requests.get(BROWSER_LIST_LINK)\n",
    "soup = BeautifulSoup(page.content, 'lxml')\n",
    "table = soup.find_all(\"table\")[0]\n",
    "tds = table.find_all(\"td\")\n",
    "browser_tds = []\n",
    "for td in tqdm(tds):\n",
    "    if str(td).startswith(\"<td><a href=\\\"/resources/ua-list/browser-detail?browser=\") & (len(browser_tds) < 200):\n",
    "        browser_tds.append(td)\n",
    "        \n",
    "print(f\"{len(browser_tds)} Browsers found\")"
   ]
  },
  {
   "cell_type": "code",
   "execution_count": 4,
   "metadata": {},
   "outputs": [
    {
     "data": {
      "application/vnd.jupyter.widget-view+json": {
       "model_id": "c6d304c96469447a8f263216795cca5e",
       "version_major": 2,
       "version_minor": 0
      },
      "text/plain": [
       "HBox(children=(FloatProgress(value=0.0, max=200.0), HTML(value='')))"
      ]
     },
     "metadata": {},
     "output_type": "display_data"
    },
    {
     "name": "stdout",
     "output_type": "stream",
     "text": [
      "\n"
     ]
    }
   ],
   "source": [
    "# Loading browser names and their urls\n",
    "for browser_td in tqdm(browser_tds):\n",
    "    name = str(browser_td.get_text())\n",
    "    url = UDGER_URL + str(browser_td.find()[\"href\"]).replace(\" \",\"%20\")\n",
    "    BROWSER_NAMES.append(name)\n",
    "    BROWSER_LINKS.append(url)"
   ]
  },
  {
   "cell_type": "code",
   "execution_count": null,
   "metadata": {},
   "outputs": [
    {
     "data": {
      "application/vnd.jupyter.widget-view+json": {
       "model_id": "6af9c85c421548509993c8bc00782232",
       "version_major": 2,
       "version_minor": 0
      },
      "text/plain": [
       "HBox(children=(FloatProgress(value=0.0, max=200.0), HTML(value='')))"
      ]
     },
     "metadata": {},
     "output_type": "display_data"
    }
   ],
   "source": [
    "# Get all available user-agents, create and add tuples with them, saving all the information\n",
    "for i in tqdm(range(len(BROWSER_NAMES))):\n",
    "    name = BROWSER_NAMES[i]\n",
    "    url = BROWSER_LINKS[i]\n",
    "    \n",
    "    page = requests.get(url)\n",
    "    soup = BeautifulSoup(page.content, 'lxml')\n",
    "    ua_links = soup.find_all(\"a\", href=True)\n",
    "    for link in ua_links:\n",
    "        if \"/resources/online-parser\" in str(link) and link.get_text() != \"Online parser\":\n",
    "            ua = (link.get_text())\n",
    "            information_set = (name, url, ua)\n",
    "            print(information_set)\n",
    "            TRIPLE.append(information_set)"
   ]
  },
  {
   "cell_type": "code",
   "execution_count": 6,
   "metadata": {},
   "outputs": [],
   "source": [
    "# Create lists of information, create a dataframe and save it\n",
    "names = []\n",
    "urls = []\n",
    "ua = []\n",
    "for triple in TRIPLE:\n",
    "    names.append(triple[0])\n",
    "    urls.append(triple[1])\n",
    "    ua.append(triple[2])\n",
    "    \n",
    "columns = {\"browser_name\": names, \"browser_url\": urls, \"user-agent\": ua}\n",
    "df = pd.DataFrame(columns)\n",
    "df.to_csv(\"User_agent_table.csv\", sep=\"µ\")"
   ]
  },
  {
   "cell_type": "code",
   "execution_count": null,
   "metadata": {},
   "outputs": [],
   "source": []
  }
 ],
 "metadata": {
  "kernelspec": {
   "display_name": "Python 3",
   "language": "python",
   "name": "python3"
  },
  "language_info": {
   "codemirror_mode": {
    "name": "ipython",
    "version": 3
   },
   "file_extension": ".py",
   "mimetype": "text/x-python",
   "name": "python",
   "nbconvert_exporter": "python",
   "pygments_lexer": "ipython3",
   "version": "3.7.6"
  }
 },
 "nbformat": 4,
 "nbformat_minor": 4
}
