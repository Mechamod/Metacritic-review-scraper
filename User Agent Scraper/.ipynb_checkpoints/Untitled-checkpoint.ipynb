{
 "cells": [
  {
   "cell_type": "markdown",
   "metadata": {},
   "source": [
    "# User-Agent Scraper\n",
    "\n",
    "A small scraper that creates a list of user-agent string for further using (especially for scraping, so we are not that likely to get blocked). The user-agent strings get scraped from https://udger.com/resources/ua-list. The program works on BeautifulSoup 4 and pandas for the dataframe. Workflow is like follows:\n",
    "  \n",
    "1. Get a list of available browsers and define a list of the ones we want to use.\n",
    "2. Open each of these Browser user-agent sites.\n",
    "3. Scrape all the available user-agents and save all the informaiton in a triple (name, url, user-agent).\n",
    "4. Write them into a dataframe\n",
    "  \n",
    "Optionally, implement a helper method that loads this file and outputs a dataframe containing user-agents. So that the UA can easy be used in other programs.\n"
   ]
  },
  {
   "cell_type": "code",
   "execution_count": 1,
   "metadata": {},
   "outputs": [],
   "source": [
    "# Constants\n",
    "UDGER_URL = \"https://udger.com\"\n",
    "BROWSER_LIST_LINK = \"https://udger.com/resources/ua-list\"\n",
    "BROWSER_NAMES = []\n",
    "BROWSER_LINKS = []\n",
    "TRIPLE = []"
   ]
  },
  {
   "cell_type": "code",
   "execution_count": 2,
   "metadata": {},
   "outputs": [
    {
     "data": {
      "application/vnd.jupyter.widget-view+json": {
       "model_id": "974d86f5155d4046836c05ff0209d23b",
       "version_major": 2,
       "version_minor": 0
      },
      "text/plain": [
       "HBox(children=(FloatProgress(value=1.0, bar_style='info', max=1.0), HTML(value='')))"
      ]
     },
     "metadata": {},
     "output_type": "display_data"
    },
    {
     "name": "stderr",
     "output_type": "stream",
     "text": [
      "/home/tim/anaconda3/lib/python3.7/site-packages/tqdm/std.py:658: FutureWarning: The Panel class is removed from pandas. Accessing it from the top-level namespace will also be removed in the next version\n",
      "  from pandas import Panel\n"
     ]
    }
   ],
   "source": [
    "import requests\n",
    "from bs4 import BeautifulSoup\n",
    "from tqdm.notebook import tqdm\n",
    "import pandas as pd\n",
    "tqdm().pandas()"
   ]
  },
  {
   "cell_type": "markdown",
   "metadata": {},
   "source": [
    "Get a list of all the available browsers with their corresponing links as a tuple so it is easy to loop through it and pick only the ones we want (or all)"
   ]
  },
  {
   "cell_type": "code",
   "execution_count": 6,
   "metadata": {},
   "outputs": [
    {
     "data": {
      "application/vnd.jupyter.widget-view+json": {
       "model_id": "502f50de217b43949847a72904279643",
       "version_major": 2,
       "version_minor": 0
      },
      "text/plain": [
       "HBox(children=(FloatProgress(value=0.0, max=2903.0), HTML(value='')))"
      ]
     },
     "metadata": {},
     "output_type": "display_data"
    },
    {
     "name": "stdout",
     "output_type": "stream",
     "text": [
      "\n",
      "200 Browsers found\n"
     ]
    }
   ],
   "source": [
    "# Get all available browsers\n",
    "page = requests.get(BROWSER_LIST_LINK)\n",
    "soup = BeautifulSoup(page.content, 'lxml')\n",
    "table = soup.find_all(\"table\")[0]\n",
    "tds = table.find_all(\"td\")\n",
    "browser_tds = []\n",
    "for td in tqdm(tds):\n",
    "    if str(td).startswith(\"<td><a href=\\\"/resources/ua-list/browser-detail?browser=\") & (len(browser_tds) < 200):\n",
    "        browser_tds.append(td)\n",
    "        \n",
    "print(f\"{len(browser_tds)} Browsers found\")"
   ]
  },
  {
   "cell_type": "code",
   "execution_count": 22,
   "metadata": {},
   "outputs": [
    {
     "data": {
      "application/vnd.jupyter.widget-view+json": {
       "model_id": "ad40a3f67c0a4bebb6e970ed8fc4a1c2",
       "version_major": 2,
       "version_minor": 0
      },
      "text/plain": [
       "HBox(children=(FloatProgress(value=0.0, max=200.0), HTML(value='')))"
      ]
     },
     "metadata": {},
     "output_type": "display_data"
    },
    {
     "name": "stdout",
     "output_type": "stream",
     "text": [
      "\n"
     ]
    }
   ],
   "source": [
    "# Loading browser names and their urls\n",
    "for browser_td in tqdm(browser_tds):\n",
    "    name = str(browser_td.get_text())\n",
    "    url = UDGER_URL + str(browser_td.find()[\"href\"]).replace(\" \",\"%20\")\n",
    "    BROWSER_NAMES.append(name)\n",
    "    BROWSER_LINKS.append(url)"
   ]
  },
  {
   "cell_type": "code",
   "execution_count": 33,
   "metadata": {},
   "outputs": [
    {
     "data": {
      "application/vnd.jupyter.widget-view+json": {
       "model_id": "6fd8d33c54be4be0847a417a9ef62ee8",
       "version_major": 2,
       "version_minor": 0
      },
      "text/plain": [
       "HBox(children=(FloatProgress(value=0.0, max=400.0), HTML(value='')))"
      ]
     },
     "metadata": {},
     "output_type": "display_data"
    },
    {
     "name": "stdout",
     "output_type": "stream",
     "text": [
      "<a href=\"/resources/online-parser\">Online parser</a>\n",
      "('115 Browser', 'https://udger.com/resources/ua-list/browser-detail?browser=115%20Browser', '/resources/online-parser')\n",
      "<a href=\"/resources/online-parser?Fuas=Mozilla/5.0 (Windows NT 6.1; WOW64) AppleWebKit/537.36 (KHTML, like Gecko) Chrome/54.0.2840.59 Safari/537.36 115Browser/8.6.2\">Mozilla/5.0 (Windows NT 6.1; WOW64) AppleWebKit/537.36 (KHTML, like Gecko) Chrome/54.0.2840.59 Safari/537.36 115Browser/8.6.2</a>\n",
      "('115 Browser', 'https://udger.com/resources/ua-list/browser-detail?browser=115%20Browser', '/resources/online-parser?Fuas=Mozilla/5.0 (Windows NT 6.1; WOW64) AppleWebKit/537.36 (KHTML, like Gecko) Chrome/54.0.2840.59 Safari/537.36 115Browser/8.6.2')\n",
      "<a href=\"/resources/online-parser\">Online parser</a>\n",
      "('115 Browser', 'https://udger.com/resources/ua-list/browser-detail?browser=115%20Browser', '/resources/online-parser')\n",
      "<a href=\"/resources/online-parser\">Online parser</a>\n",
      "('2345 Explorer', 'https://udger.com/resources/ua-list/browser-detail?browser=2345%20Explorer', '/resources/online-parser')\n",
      "<a href=\"/resources/online-parser?Fuas=Mozilla/4.0 (compatible; MSIE 8.0; Windows NT 5.1; Trident/4.0; .NET CLR 1.1.4322; 2345Explorer 5.0.0.14136)\">Mozilla/4.0 (compatible; MSIE 8.0; Windows NT 5.1; Trident/4.0; .NET CLR 1.1.4322; 2345Explorer 5.0.0.14136)</a>\n",
      "('2345 Explorer', 'https://udger.com/resources/ua-list/browser-detail?browser=2345%20Explorer', '/resources/online-parser?Fuas=Mozilla/4.0 (compatible; MSIE 8.0; Windows NT 5.1; Trident/4.0; .NET CLR 1.1.4322; 2345Explorer 5.0.0.14136)')\n",
      "<a href=\"/resources/online-parser?Fuas=Mozilla/5.0 (Windows NT 5.1) AppleWebKit/537.36 (KHTML, like Gecko) Chrome/47.0.2526.108 Safari/537.36 2345Explorer/7.1.0.12633\">Mozilla/5.0 (Windows NT 5.1) AppleWebKit/537.36 (KHTML, like Gecko) Chrome/47.0.2526.108 Safari/537.36 2345Explorer/7.1.0.12633</a>\n",
      "('2345 Explorer', 'https://udger.com/resources/ua-list/browser-detail?browser=2345%20Explorer', '/resources/online-parser?Fuas=Mozilla/5.0 (Windows NT 5.1) AppleWebKit/537.36 (KHTML, like Gecko) Chrome/47.0.2526.108 Safari/537.36 2345Explorer/7.1.0.12633')\n",
      "<a href=\"/resources/online-parser\">Online parser</a>\n",
      "('2345 Explorer', 'https://udger.com/resources/ua-list/browser-detail?browser=2345%20Explorer', '/resources/online-parser')\n"
     ]
    },
    {
     "ename": "KeyboardInterrupt",
     "evalue": "",
     "output_type": "error",
     "traceback": [
      "\u001b[0;31m---------------------------------------------------------------------------\u001b[0m",
      "\u001b[0;31mKeyboardInterrupt\u001b[0m                         Traceback (most recent call last)",
      "\u001b[0;32m<ipython-input-33-2c479d294c3f>\u001b[0m in \u001b[0;36m<module>\u001b[0;34m\u001b[0m\n\u001b[1;32m      4\u001b[0m     \u001b[0murl\u001b[0m \u001b[0;34m=\u001b[0m \u001b[0mBROWSER_LINKS\u001b[0m\u001b[0;34m[\u001b[0m\u001b[0mi\u001b[0m\u001b[0;34m]\u001b[0m\u001b[0;34m\u001b[0m\u001b[0;34m\u001b[0m\u001b[0m\n\u001b[1;32m      5\u001b[0m \u001b[0;34m\u001b[0m\u001b[0m\n\u001b[0;32m----> 6\u001b[0;31m     \u001b[0mpage\u001b[0m \u001b[0;34m=\u001b[0m \u001b[0mrequests\u001b[0m\u001b[0;34m.\u001b[0m\u001b[0mget\u001b[0m\u001b[0;34m(\u001b[0m\u001b[0murl\u001b[0m\u001b[0;34m)\u001b[0m\u001b[0;34m\u001b[0m\u001b[0;34m\u001b[0m\u001b[0m\n\u001b[0m\u001b[1;32m      7\u001b[0m     \u001b[0msoup\u001b[0m \u001b[0;34m=\u001b[0m \u001b[0mBeautifulSoup\u001b[0m\u001b[0;34m(\u001b[0m\u001b[0mpage\u001b[0m\u001b[0;34m.\u001b[0m\u001b[0mcontent\u001b[0m\u001b[0;34m,\u001b[0m \u001b[0;34m'lxml'\u001b[0m\u001b[0;34m)\u001b[0m\u001b[0;34m\u001b[0m\u001b[0;34m\u001b[0m\u001b[0m\n\u001b[1;32m      8\u001b[0m     \u001b[0mua_links\u001b[0m \u001b[0;34m=\u001b[0m \u001b[0msoup\u001b[0m\u001b[0;34m.\u001b[0m\u001b[0mfind_all\u001b[0m\u001b[0;34m(\u001b[0m\u001b[0;34m\"a\"\u001b[0m\u001b[0;34m,\u001b[0m \u001b[0mhref\u001b[0m\u001b[0;34m=\u001b[0m\u001b[0;32mTrue\u001b[0m\u001b[0;34m)\u001b[0m\u001b[0;34m\u001b[0m\u001b[0;34m\u001b[0m\u001b[0m\n",
      "\u001b[0;32m~/anaconda3/lib/python3.7/site-packages/requests/api.py\u001b[0m in \u001b[0;36mget\u001b[0;34m(url, params, **kwargs)\u001b[0m\n\u001b[1;32m     73\u001b[0m \u001b[0;34m\u001b[0m\u001b[0m\n\u001b[1;32m     74\u001b[0m     \u001b[0mkwargs\u001b[0m\u001b[0;34m.\u001b[0m\u001b[0msetdefault\u001b[0m\u001b[0;34m(\u001b[0m\u001b[0;34m'allow_redirects'\u001b[0m\u001b[0;34m,\u001b[0m \u001b[0;32mTrue\u001b[0m\u001b[0;34m)\u001b[0m\u001b[0;34m\u001b[0m\u001b[0;34m\u001b[0m\u001b[0m\n\u001b[0;32m---> 75\u001b[0;31m     \u001b[0;32mreturn\u001b[0m \u001b[0mrequest\u001b[0m\u001b[0;34m(\u001b[0m\u001b[0;34m'get'\u001b[0m\u001b[0;34m,\u001b[0m \u001b[0murl\u001b[0m\u001b[0;34m,\u001b[0m \u001b[0mparams\u001b[0m\u001b[0;34m=\u001b[0m\u001b[0mparams\u001b[0m\u001b[0;34m,\u001b[0m \u001b[0;34m**\u001b[0m\u001b[0mkwargs\u001b[0m\u001b[0;34m)\u001b[0m\u001b[0;34m\u001b[0m\u001b[0;34m\u001b[0m\u001b[0m\n\u001b[0m\u001b[1;32m     76\u001b[0m \u001b[0;34m\u001b[0m\u001b[0m\n\u001b[1;32m     77\u001b[0m \u001b[0;34m\u001b[0m\u001b[0m\n",
      "\u001b[0;32m~/anaconda3/lib/python3.7/site-packages/requests/api.py\u001b[0m in \u001b[0;36mrequest\u001b[0;34m(method, url, **kwargs)\u001b[0m\n\u001b[1;32m     58\u001b[0m     \u001b[0;31m# cases, and look like a memory leak in others.\u001b[0m\u001b[0;34m\u001b[0m\u001b[0;34m\u001b[0m\u001b[0;34m\u001b[0m\u001b[0m\n\u001b[1;32m     59\u001b[0m     \u001b[0;32mwith\u001b[0m \u001b[0msessions\u001b[0m\u001b[0;34m.\u001b[0m\u001b[0mSession\u001b[0m\u001b[0;34m(\u001b[0m\u001b[0;34m)\u001b[0m \u001b[0;32mas\u001b[0m \u001b[0msession\u001b[0m\u001b[0;34m:\u001b[0m\u001b[0;34m\u001b[0m\u001b[0;34m\u001b[0m\u001b[0m\n\u001b[0;32m---> 60\u001b[0;31m         \u001b[0;32mreturn\u001b[0m \u001b[0msession\u001b[0m\u001b[0;34m.\u001b[0m\u001b[0mrequest\u001b[0m\u001b[0;34m(\u001b[0m\u001b[0mmethod\u001b[0m\u001b[0;34m=\u001b[0m\u001b[0mmethod\u001b[0m\u001b[0;34m,\u001b[0m \u001b[0murl\u001b[0m\u001b[0;34m=\u001b[0m\u001b[0murl\u001b[0m\u001b[0;34m,\u001b[0m \u001b[0;34m**\u001b[0m\u001b[0mkwargs\u001b[0m\u001b[0;34m)\u001b[0m\u001b[0;34m\u001b[0m\u001b[0;34m\u001b[0m\u001b[0m\n\u001b[0m\u001b[1;32m     61\u001b[0m \u001b[0;34m\u001b[0m\u001b[0m\n\u001b[1;32m     62\u001b[0m \u001b[0;34m\u001b[0m\u001b[0m\n",
      "\u001b[0;32m~/anaconda3/lib/python3.7/site-packages/requests/sessions.py\u001b[0m in \u001b[0;36mrequest\u001b[0;34m(self, method, url, params, data, headers, cookies, files, auth, timeout, allow_redirects, proxies, hooks, stream, verify, cert, json)\u001b[0m\n\u001b[1;32m    531\u001b[0m         }\n\u001b[1;32m    532\u001b[0m         \u001b[0msend_kwargs\u001b[0m\u001b[0;34m.\u001b[0m\u001b[0mupdate\u001b[0m\u001b[0;34m(\u001b[0m\u001b[0msettings\u001b[0m\u001b[0;34m)\u001b[0m\u001b[0;34m\u001b[0m\u001b[0;34m\u001b[0m\u001b[0m\n\u001b[0;32m--> 533\u001b[0;31m         \u001b[0mresp\u001b[0m \u001b[0;34m=\u001b[0m \u001b[0mself\u001b[0m\u001b[0;34m.\u001b[0m\u001b[0msend\u001b[0m\u001b[0;34m(\u001b[0m\u001b[0mprep\u001b[0m\u001b[0;34m,\u001b[0m \u001b[0;34m**\u001b[0m\u001b[0msend_kwargs\u001b[0m\u001b[0;34m)\u001b[0m\u001b[0;34m\u001b[0m\u001b[0;34m\u001b[0m\u001b[0m\n\u001b[0m\u001b[1;32m    534\u001b[0m \u001b[0;34m\u001b[0m\u001b[0m\n\u001b[1;32m    535\u001b[0m         \u001b[0;32mreturn\u001b[0m \u001b[0mresp\u001b[0m\u001b[0;34m\u001b[0m\u001b[0;34m\u001b[0m\u001b[0m\n",
      "\u001b[0;32m~/anaconda3/lib/python3.7/site-packages/requests/sessions.py\u001b[0m in \u001b[0;36msend\u001b[0;34m(self, request, **kwargs)\u001b[0m\n\u001b[1;32m    644\u001b[0m \u001b[0;34m\u001b[0m\u001b[0m\n\u001b[1;32m    645\u001b[0m         \u001b[0;31m# Send the request\u001b[0m\u001b[0;34m\u001b[0m\u001b[0;34m\u001b[0m\u001b[0;34m\u001b[0m\u001b[0m\n\u001b[0;32m--> 646\u001b[0;31m         \u001b[0mr\u001b[0m \u001b[0;34m=\u001b[0m \u001b[0madapter\u001b[0m\u001b[0;34m.\u001b[0m\u001b[0msend\u001b[0m\u001b[0;34m(\u001b[0m\u001b[0mrequest\u001b[0m\u001b[0;34m,\u001b[0m \u001b[0;34m**\u001b[0m\u001b[0mkwargs\u001b[0m\u001b[0;34m)\u001b[0m\u001b[0;34m\u001b[0m\u001b[0;34m\u001b[0m\u001b[0m\n\u001b[0m\u001b[1;32m    647\u001b[0m \u001b[0;34m\u001b[0m\u001b[0m\n\u001b[1;32m    648\u001b[0m         \u001b[0;31m# Total elapsed time of the request (approximately)\u001b[0m\u001b[0;34m\u001b[0m\u001b[0;34m\u001b[0m\u001b[0;34m\u001b[0m\u001b[0m\n",
      "\u001b[0;32m~/anaconda3/lib/python3.7/site-packages/requests/adapters.py\u001b[0m in \u001b[0;36msend\u001b[0;34m(self, request, stream, timeout, verify, cert, proxies)\u001b[0m\n\u001b[1;32m    447\u001b[0m                     \u001b[0mdecode_content\u001b[0m\u001b[0;34m=\u001b[0m\u001b[0;32mFalse\u001b[0m\u001b[0;34m,\u001b[0m\u001b[0;34m\u001b[0m\u001b[0;34m\u001b[0m\u001b[0m\n\u001b[1;32m    448\u001b[0m                     \u001b[0mretries\u001b[0m\u001b[0;34m=\u001b[0m\u001b[0mself\u001b[0m\u001b[0;34m.\u001b[0m\u001b[0mmax_retries\u001b[0m\u001b[0;34m,\u001b[0m\u001b[0;34m\u001b[0m\u001b[0;34m\u001b[0m\u001b[0m\n\u001b[0;32m--> 449\u001b[0;31m                     \u001b[0mtimeout\u001b[0m\u001b[0;34m=\u001b[0m\u001b[0mtimeout\u001b[0m\u001b[0;34m\u001b[0m\u001b[0;34m\u001b[0m\u001b[0m\n\u001b[0m\u001b[1;32m    450\u001b[0m                 )\n\u001b[1;32m    451\u001b[0m \u001b[0;34m\u001b[0m\u001b[0m\n",
      "\u001b[0;32m~/anaconda3/lib/python3.7/site-packages/urllib3/connectionpool.py\u001b[0m in \u001b[0;36murlopen\u001b[0;34m(self, method, url, body, headers, retries, redirect, assert_same_host, timeout, pool_timeout, release_conn, chunked, body_pos, **response_kw)\u001b[0m\n\u001b[1;32m    670\u001b[0m                 \u001b[0mbody\u001b[0m\u001b[0;34m=\u001b[0m\u001b[0mbody\u001b[0m\u001b[0;34m,\u001b[0m\u001b[0;34m\u001b[0m\u001b[0;34m\u001b[0m\u001b[0m\n\u001b[1;32m    671\u001b[0m                 \u001b[0mheaders\u001b[0m\u001b[0;34m=\u001b[0m\u001b[0mheaders\u001b[0m\u001b[0;34m,\u001b[0m\u001b[0;34m\u001b[0m\u001b[0;34m\u001b[0m\u001b[0m\n\u001b[0;32m--> 672\u001b[0;31m                 \u001b[0mchunked\u001b[0m\u001b[0;34m=\u001b[0m\u001b[0mchunked\u001b[0m\u001b[0;34m,\u001b[0m\u001b[0;34m\u001b[0m\u001b[0;34m\u001b[0m\u001b[0m\n\u001b[0m\u001b[1;32m    673\u001b[0m             )\n\u001b[1;32m    674\u001b[0m \u001b[0;34m\u001b[0m\u001b[0m\n",
      "\u001b[0;32m~/anaconda3/lib/python3.7/site-packages/urllib3/connectionpool.py\u001b[0m in \u001b[0;36m_make_request\u001b[0;34m(self, conn, method, url, timeout, chunked, **httplib_request_kw)\u001b[0m\n\u001b[1;32m    374\u001b[0m         \u001b[0;31m# Trigger any extra validation we need to do.\u001b[0m\u001b[0;34m\u001b[0m\u001b[0;34m\u001b[0m\u001b[0;34m\u001b[0m\u001b[0m\n\u001b[1;32m    375\u001b[0m         \u001b[0;32mtry\u001b[0m\u001b[0;34m:\u001b[0m\u001b[0;34m\u001b[0m\u001b[0;34m\u001b[0m\u001b[0m\n\u001b[0;32m--> 376\u001b[0;31m             \u001b[0mself\u001b[0m\u001b[0;34m.\u001b[0m\u001b[0m_validate_conn\u001b[0m\u001b[0;34m(\u001b[0m\u001b[0mconn\u001b[0m\u001b[0;34m)\u001b[0m\u001b[0;34m\u001b[0m\u001b[0;34m\u001b[0m\u001b[0m\n\u001b[0m\u001b[1;32m    377\u001b[0m         \u001b[0;32mexcept\u001b[0m \u001b[0;34m(\u001b[0m\u001b[0mSocketTimeout\u001b[0m\u001b[0;34m,\u001b[0m \u001b[0mBaseSSLError\u001b[0m\u001b[0;34m)\u001b[0m \u001b[0;32mas\u001b[0m \u001b[0me\u001b[0m\u001b[0;34m:\u001b[0m\u001b[0;34m\u001b[0m\u001b[0;34m\u001b[0m\u001b[0m\n\u001b[1;32m    378\u001b[0m             \u001b[0;31m# Py2 raises this as a BaseSSLError, Py3 raises it as socket timeout.\u001b[0m\u001b[0;34m\u001b[0m\u001b[0;34m\u001b[0m\u001b[0;34m\u001b[0m\u001b[0m\n",
      "\u001b[0;32m~/anaconda3/lib/python3.7/site-packages/urllib3/connectionpool.py\u001b[0m in \u001b[0;36m_validate_conn\u001b[0;34m(self, conn)\u001b[0m\n\u001b[1;32m    992\u001b[0m         \u001b[0;31m# Force connect early to allow us to validate the connection.\u001b[0m\u001b[0;34m\u001b[0m\u001b[0;34m\u001b[0m\u001b[0;34m\u001b[0m\u001b[0m\n\u001b[1;32m    993\u001b[0m         \u001b[0;32mif\u001b[0m \u001b[0;32mnot\u001b[0m \u001b[0mgetattr\u001b[0m\u001b[0;34m(\u001b[0m\u001b[0mconn\u001b[0m\u001b[0;34m,\u001b[0m \u001b[0;34m\"sock\"\u001b[0m\u001b[0;34m,\u001b[0m \u001b[0;32mNone\u001b[0m\u001b[0;34m)\u001b[0m\u001b[0;34m:\u001b[0m  \u001b[0;31m# AppEngine might not have  `.sock`\u001b[0m\u001b[0;34m\u001b[0m\u001b[0;34m\u001b[0m\u001b[0m\n\u001b[0;32m--> 994\u001b[0;31m             \u001b[0mconn\u001b[0m\u001b[0;34m.\u001b[0m\u001b[0mconnect\u001b[0m\u001b[0;34m(\u001b[0m\u001b[0;34m)\u001b[0m\u001b[0;34m\u001b[0m\u001b[0;34m\u001b[0m\u001b[0m\n\u001b[0m\u001b[1;32m    995\u001b[0m \u001b[0;34m\u001b[0m\u001b[0m\n\u001b[1;32m    996\u001b[0m         \u001b[0;32mif\u001b[0m \u001b[0;32mnot\u001b[0m \u001b[0mconn\u001b[0m\u001b[0;34m.\u001b[0m\u001b[0mis_verified\u001b[0m\u001b[0;34m:\u001b[0m\u001b[0;34m\u001b[0m\u001b[0;34m\u001b[0m\u001b[0m\n",
      "\u001b[0;32m~/anaconda3/lib/python3.7/site-packages/urllib3/connection.py\u001b[0m in \u001b[0;36mconnect\u001b[0;34m(self)\u001b[0m\n\u001b[1;32m    298\u001b[0m     \u001b[0;32mdef\u001b[0m \u001b[0mconnect\u001b[0m\u001b[0;34m(\u001b[0m\u001b[0mself\u001b[0m\u001b[0;34m)\u001b[0m\u001b[0;34m:\u001b[0m\u001b[0;34m\u001b[0m\u001b[0;34m\u001b[0m\u001b[0m\n\u001b[1;32m    299\u001b[0m         \u001b[0;31m# Add certificate verification\u001b[0m\u001b[0;34m\u001b[0m\u001b[0;34m\u001b[0m\u001b[0;34m\u001b[0m\u001b[0m\n\u001b[0;32m--> 300\u001b[0;31m         \u001b[0mconn\u001b[0m \u001b[0;34m=\u001b[0m \u001b[0mself\u001b[0m\u001b[0;34m.\u001b[0m\u001b[0m_new_conn\u001b[0m\u001b[0;34m(\u001b[0m\u001b[0;34m)\u001b[0m\u001b[0;34m\u001b[0m\u001b[0;34m\u001b[0m\u001b[0m\n\u001b[0m\u001b[1;32m    301\u001b[0m         \u001b[0mhostname\u001b[0m \u001b[0;34m=\u001b[0m \u001b[0mself\u001b[0m\u001b[0;34m.\u001b[0m\u001b[0mhost\u001b[0m\u001b[0;34m\u001b[0m\u001b[0;34m\u001b[0m\u001b[0m\n\u001b[1;32m    302\u001b[0m \u001b[0;34m\u001b[0m\u001b[0m\n",
      "\u001b[0;32m~/anaconda3/lib/python3.7/site-packages/urllib3/connection.py\u001b[0m in \u001b[0;36m_new_conn\u001b[0;34m(self)\u001b[0m\n\u001b[1;32m    155\u001b[0m         \u001b[0;32mtry\u001b[0m\u001b[0;34m:\u001b[0m\u001b[0;34m\u001b[0m\u001b[0;34m\u001b[0m\u001b[0m\n\u001b[1;32m    156\u001b[0m             conn = connection.create_connection(\n\u001b[0;32m--> 157\u001b[0;31m                 \u001b[0;34m(\u001b[0m\u001b[0mself\u001b[0m\u001b[0;34m.\u001b[0m\u001b[0m_dns_host\u001b[0m\u001b[0;34m,\u001b[0m \u001b[0mself\u001b[0m\u001b[0;34m.\u001b[0m\u001b[0mport\u001b[0m\u001b[0;34m)\u001b[0m\u001b[0;34m,\u001b[0m \u001b[0mself\u001b[0m\u001b[0;34m.\u001b[0m\u001b[0mtimeout\u001b[0m\u001b[0;34m,\u001b[0m \u001b[0;34m**\u001b[0m\u001b[0mextra_kw\u001b[0m\u001b[0;34m\u001b[0m\u001b[0;34m\u001b[0m\u001b[0m\n\u001b[0m\u001b[1;32m    158\u001b[0m             )\n\u001b[1;32m    159\u001b[0m \u001b[0;34m\u001b[0m\u001b[0m\n",
      "\u001b[0;32m~/anaconda3/lib/python3.7/site-packages/urllib3/util/connection.py\u001b[0m in \u001b[0;36mcreate_connection\u001b[0;34m(address, timeout, source_address, socket_options)\u001b[0m\n\u001b[1;32m     72\u001b[0m             \u001b[0;32mif\u001b[0m \u001b[0msource_address\u001b[0m\u001b[0;34m:\u001b[0m\u001b[0;34m\u001b[0m\u001b[0;34m\u001b[0m\u001b[0m\n\u001b[1;32m     73\u001b[0m                 \u001b[0msock\u001b[0m\u001b[0;34m.\u001b[0m\u001b[0mbind\u001b[0m\u001b[0;34m(\u001b[0m\u001b[0msource_address\u001b[0m\u001b[0;34m)\u001b[0m\u001b[0;34m\u001b[0m\u001b[0;34m\u001b[0m\u001b[0m\n\u001b[0;32m---> 74\u001b[0;31m             \u001b[0msock\u001b[0m\u001b[0;34m.\u001b[0m\u001b[0mconnect\u001b[0m\u001b[0;34m(\u001b[0m\u001b[0msa\u001b[0m\u001b[0;34m)\u001b[0m\u001b[0;34m\u001b[0m\u001b[0;34m\u001b[0m\u001b[0m\n\u001b[0m\u001b[1;32m     75\u001b[0m             \u001b[0;32mreturn\u001b[0m \u001b[0msock\u001b[0m\u001b[0;34m\u001b[0m\u001b[0;34m\u001b[0m\u001b[0m\n\u001b[1;32m     76\u001b[0m \u001b[0;34m\u001b[0m\u001b[0m\n",
      "\u001b[0;31mKeyboardInterrupt\u001b[0m: "
     ]
    }
   ],
   "source": [
    "# Get all available user-agents, create and add tuples with them, saving all the information\n",
    "for i in tqdm(range(len(BROWSER_NAMES))):\n",
    "    name = BROWSER_NAMES[i]\n",
    "    url = BROWSER_LINKS[i]\n",
    "    \n",
    "    page = requests.get(url)\n",
    "    soup = BeautifulSoup(page.content, 'lxml')\n",
    "    ua_links = soup.find_all(\"a\", href=True)\n",
    "    for link in ua_links:\n",
    "        if \"/resources/online-parser\" in str(link) and link.get_text() != \"Online parser\":\n",
    "            print(link)\n",
    "            ua = (link.get_text())\n",
    "            information_set = (name, url, ua)\n",
    "            print(information_set)\n",
    "            TRIPLE.append(information_set)"
   ]
  },
  {
   "cell_type": "code",
   "execution_count": 10,
   "metadata": {},
   "outputs": [],
   "source": [
    "# Create lists of information, create a dataframe and save it\n",
    "names = []\n",
    "urls = []\n",
    "ua = []\n",
    "for triple in TRIPLE:\n",
    "    names.append(triple[0])\n",
    "    urls.append(triple[1])\n",
    "    ua.append(triple[2])\n",
    "    \n",
    "columns = {\"browser_name\": names, \"browser_url\": urls, \"user-agent\": ua}\n",
    "df = pd.DataFrame(columns)\n",
    "df.to_csv(\"User_Agent_table.csv\", sep=\"µ\")"
   ]
  },
  {
   "cell_type": "code",
   "execution_count": 20,
   "metadata": {},
   "outputs": [
    {
     "name": "stdout",
     "output_type": "stream",
     "text": [
      "['https://udger.com/resources/ua-list/browser-detail?browser=115%20Browser', 'https://udger.com/resources/ua-list/browser-detail?browser=2345%20Explorer', 'https://udger.com/resources/ua-list/browser-detail?browser=360%20browser', 'https://udger.com/resources/ua-list/browser-detail?browser=37abc', 'https://udger.com/resources/ua-list/browser-detail?browser=3DS%20Browser', 'https://udger.com/resources/ua-list/browser-detail?browser=7%20Star%20Browser', 'https://udger.com/resources/ua-list/browser-detail?browser=Abolimba', 'https://udger.com/resources/ua-list/browser-detail?browser=ABrowse', 'https://udger.com/resources/ua-list/browser-detail?browser=Acoo%20Browser', 'https://udger.com/resources/ua-list/browser-detail?browser=Adventurer', 'https://udger.com/resources/ua-list/browser-detail?browser=Alienforce', 'https://udger.com/resources/ua-list/browser-detail?browser=Amaya', 'https://udger.com/resources/ua-list/browser-detail?browser=Amiga%20Aweb', 'https://udger.com/resources/ua-list/browser-detail?browser=Amiga%20Voyager', 'https://udger.com/resources/ua-list/browser-detail?browser=Amigo', 'https://udger.com/resources/ua-list/browser-detail?browser=ANT%20Fresco', 'https://udger.com/resources/ua-list/browser-detail?browser=ANT%20Galio', 'https://udger.com/resources/ua-list/browser-detail?browser=AOL%20Desktop', 'https://udger.com/resources/ua-list/browser-detail?browser=AOL%20Explorer', 'https://udger.com/resources/ua-list/browser-detail?browser=AOL%20Shield', 'https://udger.com/resources/ua-list/browser-detail?browser=Aplix', 'https://udger.com/resources/ua-list/browser-detail?browser=Arachne', 'https://udger.com/resources/ua-list/browser-detail?browser=Arctic%20Fox', 'https://udger.com/resources/ua-list/browser-detail?browser=Arora', 'https://udger.com/resources/ua-list/browser-detail?browser=Atom', 'https://udger.com/resources/ua-list/browser-detail?browser=Avant%20Browser', 'https://udger.com/resources/ua-list/browser-detail?browser=Avast%20Secure%20Browser', 'https://udger.com/resources/ua-list/browser-detail?browser=AVG%20Secure%20Browser', 'https://udger.com/resources/ua-list/browser-detail?browser=Aviator', 'https://udger.com/resources/ua-list/browser-detail?browser=Avira%20Scout', 'https://udger.com/resources/ua-list/browser-detail?browser=Baidu%20Browser', 'https://udger.com/resources/ua-list/browser-detail?browser=Baidu%20Spark', 'https://udger.com/resources/ua-list/browser-detail?browser=Basilisk', 'https://udger.com/resources/ua-list/browser-detail?browser=Beaker', 'https://udger.com/resources/ua-list/browser-detail?browser=Beamrise', 'https://udger.com/resources/ua-list/browser-detail?browser=Beonex', 'https://udger.com/resources/ua-list/browser-detail?browser=Blackbird', 'https://udger.com/resources/ua-list/browser-detail?browser=BlackHawk', 'https://udger.com/resources/ua-list/browser-detail?browser=Bolt', 'https://udger.com/resources/ua-list/browser-detail?browser=Brave', 'https://udger.com/resources/ua-list/browser-detail?browser=BriskBard', 'https://udger.com/resources/ua-list/browser-detail?browser=BrowseX', 'https://udger.com/resources/ua-list/browser-detail?browser=Browzar', 'https://udger.com/resources/ua-list/browser-detail?browser=Bunjalloo', 'https://udger.com/resources/ua-list/browser-detail?browser=Camino', 'https://udger.com/resources/ua-list/browser-detail?browser=CCleaner%20Browser', 'https://udger.com/resources/ua-list/browser-detail?browser=Charon', 'https://udger.com/resources/ua-list/browser-detail?browser=Chedot', 'https://udger.com/resources/ua-list/browser-detail?browser=Cheshire', 'https://udger.com/resources/ua-list/browser-detail?browser=Chim%20Lac', 'https://udger.com/resources/ua-list/browser-detail?browser=Chrome', 'https://udger.com/resources/ua-list/browser-detail?browser=Chrome%20frozen%20UA', 'https://udger.com/resources/ua-list/browser-detail?browser=Chrome%20Headless', 'https://udger.com/resources/ua-list/browser-detail?browser=Chromium', 'https://udger.com/resources/ua-list/browser-detail?browser=Chromodo', 'https://udger.com/resources/ua-list/browser-detail?browser=Classilla', 'https://udger.com/resources/ua-list/browser-detail?browser=CM%20Browser', 'https://udger.com/resources/ua-list/browser-detail?browser=Coc%20Coc', 'https://udger.com/resources/ua-list/browser-detail?browser=Colibri', 'https://udger.com/resources/ua-list/browser-detail?browser=Columbus', 'https://udger.com/resources/ua-list/browser-detail?browser=CometBird', 'https://udger.com/resources/ua-list/browser-detail?browser=Comodo%20Dragon', 'https://udger.com/resources/ua-list/browser-detail?browser=Conkeror', 'https://udger.com/resources/ua-list/browser-detail?browser=CoolNovo', 'https://udger.com/resources/ua-list/browser-detail?browser=Crazy%20Browser', 'https://udger.com/resources/ua-list/browser-detail?browser=Cuam', 'https://udger.com/resources/ua-list/browser-detail?browser=Cunaguaro', 'https://udger.com/resources/ua-list/browser-detail?browser=Cyberdog', 'https://udger.com/resources/ua-list/browser-detail?browser=Cyberfox', 'https://udger.com/resources/ua-list/browser-detail?browser=Deepnet%20Explorer', 'https://udger.com/resources/ua-list/browser-detail?browser=Degdegan', 'https://udger.com/resources/ua-list/browser-detail?browser=Demeter', 'https://udger.com/resources/ua-list/browser-detail?browser=DeskBrowse', 'https://udger.com/resources/ua-list/browser-detail?browser=Dillo', 'https://udger.com/resources/ua-list/browser-detail?browser=DocZilla', 'https://udger.com/resources/ua-list/browser-detail?browser=Dooble', 'https://udger.com/resources/ua-list/browser-detail?browser=DPlus', 'https://udger.com/resources/ua-list/browser-detail?browser=Edbrowse', 'https://udger.com/resources/ua-list/browser-detail?browser=Electron%20App', 'https://udger.com/resources/ua-list/browser-detail?browser=Element%20Browser', 'https://udger.com/resources/ua-list/browser-detail?browser=Elements%20Browser', 'https://udger.com/resources/ua-list/browser-detail?browser=Elinks', 'https://udger.com/resources/ua-list/browser-detail?browser=Enigma%20browser', 'https://udger.com/resources/ua-list/browser-detail?browser=Epic', 'https://udger.com/resources/ua-list/browser-detail?browser=Espial%20TV%20Browser', 'https://udger.com/resources/ua-list/browser-detail?browser=Facebook%20App%20for%20desktop', 'https://udger.com/resources/ua-list/browser-detail?browser=Falkon', 'https://udger.com/resources/ua-list/browser-detail?browser=Firebird%20(old%20name%20for%20Firefox)', 'https://udger.com/resources/ua-list/browser-detail?browser=Firefox', 'https://udger.com/resources/ua-list/browser-detail?browser=Firefox%20(BonEcho)', 'https://udger.com/resources/ua-list/browser-detail?browser=Firefox%20(GranParadiso)', 'https://udger.com/resources/ua-list/browser-detail?browser=Firefox%20(Lorentz)', 'https://udger.com/resources/ua-list/browser-detail?browser=Firefox%20(Minefield)', 'https://udger.com/resources/ua-list/browser-detail?browser=Firefox%20(Namoroka)', 'https://udger.com/resources/ua-list/browser-detail?browser=Firefox%20(Shiretoko)', 'https://udger.com/resources/ua-list/browser-detail?browser=Fireweb%20Navigator', 'https://udger.com/resources/ua-list/browser-detail?browser=FlameSky', 'https://udger.com/resources/ua-list/browser-detail?browser=Flock', 'https://udger.com/resources/ua-list/browser-detail?browser=Fluid', 'https://udger.com/resources/ua-list/browser-detail?browser=Framafox', 'https://udger.com/resources/ua-list/browser-detail?browser=Freebox%20Browser', 'https://udger.com/resources/ua-list/browser-detail?browser=FreeU', 'https://udger.com/resources/ua-list/browser-detail?browser=Galeon', 'https://udger.com/resources/ua-list/browser-detail?browser=GlobalMojo', 'https://udger.com/resources/ua-list/browser-detail?browser=GNOME%20Web', 'https://udger.com/resources/ua-list/browser-detail?browser=GreenBrowser', 'https://udger.com/resources/ua-list/browser-detail?browser=Hola%20Browser', 'https://udger.com/resources/ua-list/browser-detail?browser=HotJava', 'https://udger.com/resources/ua-list/browser-detail?browser=Hv3', 'https://udger.com/resources/ua-list/browser-detail?browser=Hydra%20Browser', 'https://udger.com/resources/ua-list/browser-detail?browser=IBM%20WebExplorer', 'https://udger.com/resources/ua-list/browser-detail?browser=IBrowse', 'https://udger.com/resources/ua-list/browser-detail?browser=iCab', 'https://udger.com/resources/ua-list/browser-detail?browser=ICE%20browser', 'https://udger.com/resources/ua-list/browser-detail?browser=IceApe', 'https://udger.com/resources/ua-list/browser-detail?browser=IceCat', 'https://udger.com/resources/ua-list/browser-detail?browser=IceDragon', 'https://udger.com/resources/ua-list/browser-detail?browser=IceWeasel', 'https://udger.com/resources/ua-list/browser-detail?browser=IE', 'https://udger.com/resources/ua-list/browser-detail?browser=Instagram%20App%20for%20Desktop', 'https://udger.com/resources/ua-list/browser-detail?browser=InternetSurfboard', 'https://udger.com/resources/ua-list/browser-detail?browser=iRider', 'https://udger.com/resources/ua-list/browser-detail?browser=Iridium', 'https://udger.com/resources/ua-list/browser-detail?browser=Iron', 'https://udger.com/resources/ua-list/browser-detail?browser=K-Meleon', 'https://udger.com/resources/ua-list/browser-detail?browser=K-Ninja', 'https://udger.com/resources/ua-list/browser-detail?browser=K.Browser', 'https://udger.com/resources/ua-list/browser-detail?browser=Kapiko', 'https://udger.com/resources/ua-list/browser-detail?browser=Kazehakase', 'https://udger.com/resources/ua-list/browser-detail?browser=Kinza', 'https://udger.com/resources/ua-list/browser-detail?browser=Kirix%20Strata', 'https://udger.com/resources/ua-list/browser-detail?browser=KKman', 'https://udger.com/resources/ua-list/browser-detail?browser=Konqueror', 'https://udger.com/resources/ua-list/browser-detail?browser=Kylo', 'https://udger.com/resources/ua-list/browser-detail?browser=LBrowser', 'https://udger.com/resources/ua-list/browser-detail?browser=LG%20Web%20Browser', 'https://udger.com/resources/ua-list/browser-detail?browser=LieYing', 'https://udger.com/resources/ua-list/browser-detail?browser=Light', 'https://udger.com/resources/ua-list/browser-detail?browser=Line%20Mode%20Browser', 'https://udger.com/resources/ua-list/browser-detail?browser=Links', 'https://udger.com/resources/ua-list/browser-detail?browser=Lobo', 'https://udger.com/resources/ua-list/browser-detail?browser=lolifox', 'https://udger.com/resources/ua-list/browser-detail?browser=Lovense%20Browser', 'https://udger.com/resources/ua-list/browser-detail?browser=luakit', 'https://udger.com/resources/ua-list/browser-detail?browser=Lunascape', 'https://udger.com/resources/ua-list/browser-detail?browser=Lync%202011', 'https://udger.com/resources/ua-list/browser-detail?browser=Lynx', 'https://udger.com/resources/ua-list/browser-detail?browser=Madfox', 'https://udger.com/resources/ua-list/browser-detail?browser=Maxthon', 'https://udger.com/resources/ua-list/browser-detail?browser=Mercury', 'https://udger.com/resources/ua-list/browser-detail?browser=Microsoft%20Edge', 'https://udger.com/resources/ua-list/browser-detail?browser=Midori', 'https://udger.com/resources/ua-list/browser-detail?browser=Min', 'https://udger.com/resources/ua-list/browser-detail?browser=Mini%20Browser', 'https://udger.com/resources/ua-list/browser-detail?browser=Mozilla', 'https://udger.com/resources/ua-list/browser-detail?browser=Multi-Browser%20XP', 'https://udger.com/resources/ua-list/browser-detail?browser=MultiZilla', 'https://udger.com/resources/ua-list/browser-detail?browser=MxNitro', 'https://udger.com/resources/ua-list/browser-detail?browser=My%20Internet%20Browser', 'https://udger.com/resources/ua-list/browser-detail?browser=Mypal', 'https://udger.com/resources/ua-list/browser-detail?browser=Naenara', 'https://udger.com/resources/ua-list/browser-detail?browser=NCSA%20Mosaic', 'https://udger.com/resources/ua-list/browser-detail?browser=NetBox', 'https://udger.com/resources/ua-list/browser-detail?browser=NetCaptor', 'https://udger.com/resources/ua-list/browser-detail?browser=NetPositive', 'https://udger.com/resources/ua-list/browser-detail?browser=Netscape%20Navigator', 'https://udger.com/resources/ua-list/browser-detail?browser=NetSurf', 'https://udger.com/resources/ua-list/browser-detail?browser=Nintendo%20Switch%20Browser', 'https://udger.com/resources/ua-list/browser-detail?browser=Off%20By%20One', 'https://udger.com/resources/ua-list/browser-detail?browser=OmniWeb', 'https://udger.com/resources/ua-list/browser-detail?browser=OneNote%202019%20mobile', 'https://udger.com/resources/ua-list/browser-detail?browser=Open%20Live%20Writer', 'https://udger.com/resources/ua-list/browser-detail?browser=Openwave%20Phone%20Simulator', 'https://udger.com/resources/ua-list/browser-detail?browser=Opera', 'https://udger.com/resources/ua-list/browser-detail?browser=Opera%20GX', 'https://udger.com/resources/ua-list/browser-detail?browser=Opera%20Neon', 'https://udger.com/resources/ua-list/browser-detail?browser=Orange%20browser', 'https://udger.com/resources/ua-list/browser-detail?browser=Orca', 'https://udger.com/resources/ua-list/browser-detail?browser=Oregano', 'https://udger.com/resources/ua-list/browser-detail?browser=Otter', 'https://udger.com/resources/ua-list/browser-detail?browser=OWB%20(Odyssey%20Web%20Browser)', 'https://udger.com/resources/ua-list/browser-detail?browser=OWB%20(Origyn%20Web%20Browser)', 'https://udger.com/resources/ua-list/browser-detail?browser=Pale%20Moon', 'https://udger.com/resources/ua-list/browser-detail?browser=Patriott', 'https://udger.com/resources/ua-list/browser-detail?browser=Perk', 'https://udger.com/resources/ua-list/browser-detail?browser=Phaseout', 'https://udger.com/resources/ua-list/browser-detail?browser=Phoenix%20(old%20name%20for%20Firefox)', 'https://udger.com/resources/ua-list/browser-detail?browser=PirateBrowser', 'https://udger.com/resources/ua-list/browser-detail?browser=Polarity', 'https://udger.com/resources/ua-list/browser-detail?browser=Proofpoint%20SaaS%20Protection', 'https://udger.com/resources/ua-list/browser-detail?browser=PS4%20Web%20browser', 'https://udger.com/resources/ua-list/browser-detail?browser=Puffin', 'https://udger.com/resources/ua-list/browser-detail?browser=PureBrowser', 'https://udger.com/resources/ua-list/browser-detail?browser=Qiyu%20Swordfish%20Browser', 'https://udger.com/resources/ua-list/browser-detail?browser=QQbrowser', 'https://udger.com/resources/ua-list/browser-detail?browser=QtWeb', 'https://udger.com/resources/ua-list/browser-detail?browser=QupZilla', 'https://udger.com/resources/ua-list/browser-detail?browser=qutebrowser', 'https://udger.com/resources/ua-list/browser-detail?browser=Rambler%20browser', 'https://udger.com/resources/ua-list/browser-detail?browser=Rekonq']\n"
     ]
    }
   ],
   "source": [
    "print(BROWSER_LINKS)"
   ]
  },
  {
   "cell_type": "code",
   "execution_count": null,
   "metadata": {},
   "outputs": [],
   "source": []
  }
 ],
 "metadata": {
  "kernelspec": {
   "display_name": "Python 3",
   "language": "python",
   "name": "python3"
  },
  "language_info": {
   "codemirror_mode": {
    "name": "ipython",
    "version": 3
   },
   "file_extension": ".py",
   "mimetype": "text/x-python",
   "name": "python",
   "nbconvert_exporter": "python",
   "pygments_lexer": "ipython3",
   "version": "3.7.6"
  }
 },
 "nbformat": 4,
 "nbformat_minor": 4
}
