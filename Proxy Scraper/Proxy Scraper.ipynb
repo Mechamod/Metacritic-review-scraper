{
 "cells": [
  {
   "cell_type": "markdown",
   "metadata": {},
   "source": [
    "# Proxy Scraper\n",
    "This program is intended to scrap https://free-proxy-list.net/ for a list of proxies in order to use for other projects, especially for the Amazon review scraper. This scraper, as all of the others from me, relies on BeautifulSoup 4 for scraping and Pandas for creating DataFrames and saving them."
   ]
  },
  {
   "cell_type": "markdown",
   "metadata": {},
   "source": [
    "### Imports"
   ]
  },
  {
   "cell_type": "code",
   "execution_count": 1,
   "metadata": {},
   "outputs": [],
   "source": [
    "from bs4 import BeautifulSoup\n",
    "import pandas as pd\n",
    "import requests"
   ]
  },
  {
   "cell_type": "markdown",
   "metadata": {},
   "source": [
    "### Constants and lists"
   ]
  },
  {
   "cell_type": "code",
   "execution_count": 2,
   "metadata": {},
   "outputs": [],
   "source": [
    "PROXY_LIST_URL = \"https://free-proxy-list.net/\"\n",
    "PROXY_IPS = []\n",
    "PROXY_PORTS = []\n",
    "PROXY_CODES = []\n",
    "PROXY_COUNTRIES = []\n",
    "PROXY_ANONYMITY = []\n",
    "PROXY_GOOGLE = []\n",
    "PROXY_HTTPS = []"
   ]
  },
  {
   "cell_type": "markdown",
   "metadata": {},
   "source": [
    "### Request and harvest information"
   ]
  },
  {
   "cell_type": "code",
   "execution_count": 3,
   "metadata": {},
   "outputs": [],
   "source": [
    "page = requests.get(PROXY_LIST_URL)\n",
    "soup = BeautifulSoup(page.content, 'lxml')\n",
    "table = soup.find_all(\"tbody\")[0]\n",
    "rows = table.find_all(\"tr\")\n",
    "for row in rows:\n",
    "    tds = row.find_all(\"td\")\n",
    "    PROXY_IPS.append(tds[0].get_text())\n",
    "    PROXY_PORTS.append(tds[1].get_text())\n",
    "    PROXY_CODES.append(tds[2].get_text())\n",
    "    PROXY_COUNTRIES.append(tds[3].get_text())\n",
    "    PROXY_ANONYMITY.append(tds[4].get_text())\n",
    "    PROXY_GOOGLE.append(tds[5].get_text())\n",
    "    PROXY_HTTPS.append(tds[6].get_text())"
   ]
  },
  {
   "cell_type": "markdown",
   "metadata": {},
   "source": [
    "### Saving informaiton harvested to CSV"
   ]
  },
  {
   "cell_type": "code",
   "execution_count": 4,
   "metadata": {},
   "outputs": [
    {
     "data": {
      "text/html": [
       "<div>\n",
       "<style scoped>\n",
       "    .dataframe tbody tr th:only-of-type {\n",
       "        vertical-align: middle;\n",
       "    }\n",
       "\n",
       "    .dataframe tbody tr th {\n",
       "        vertical-align: top;\n",
       "    }\n",
       "\n",
       "    .dataframe thead th {\n",
       "        text-align: right;\n",
       "    }\n",
       "</style>\n",
       "<table border=\"1\" class=\"dataframe\">\n",
       "  <thead>\n",
       "    <tr style=\"text-align: right;\">\n",
       "      <th></th>\n",
       "      <th>IP</th>\n",
       "      <th>Port</th>\n",
       "      <th>Code</th>\n",
       "      <th>Country</th>\n",
       "      <th>Anonymity</th>\n",
       "      <th>Google</th>\n",
       "      <th>HTTPS</th>\n",
       "    </tr>\n",
       "  </thead>\n",
       "  <tbody>\n",
       "    <tr>\n",
       "      <th>0</th>\n",
       "      <td>207.154.231.213</td>\n",
       "      <td>8080</td>\n",
       "      <td>DE</td>\n",
       "      <td>Germany</td>\n",
       "      <td>anonymous</td>\n",
       "      <td>no</td>\n",
       "      <td>no</td>\n",
       "    </tr>\n",
       "    <tr>\n",
       "      <th>1</th>\n",
       "      <td>77.104.65.6</td>\n",
       "      <td>80</td>\n",
       "      <td>IR</td>\n",
       "      <td>Iran</td>\n",
       "      <td>anonymous</td>\n",
       "      <td>no</td>\n",
       "      <td>yes</td>\n",
       "    </tr>\n",
       "    <tr>\n",
       "      <th>2</th>\n",
       "      <td>197.234.35.82</td>\n",
       "      <td>53281</td>\n",
       "      <td>NG</td>\n",
       "      <td>Nigeria</td>\n",
       "      <td>elite proxy</td>\n",
       "      <td>no</td>\n",
       "      <td>no</td>\n",
       "    </tr>\n",
       "    <tr>\n",
       "      <th>3</th>\n",
       "      <td>161.35.70.249</td>\n",
       "      <td>8080</td>\n",
       "      <td>DE</td>\n",
       "      <td>Germany</td>\n",
       "      <td>anonymous</td>\n",
       "      <td>no</td>\n",
       "      <td>no</td>\n",
       "    </tr>\n",
       "    <tr>\n",
       "      <th>4</th>\n",
       "      <td>46.4.96.137</td>\n",
       "      <td>3128</td>\n",
       "      <td>DE</td>\n",
       "      <td>Germany</td>\n",
       "      <td>anonymous</td>\n",
       "      <td>no</td>\n",
       "      <td>no</td>\n",
       "    </tr>\n",
       "    <tr>\n",
       "      <th>...</th>\n",
       "      <td>...</td>\n",
       "      <td>...</td>\n",
       "      <td>...</td>\n",
       "      <td>...</td>\n",
       "      <td>...</td>\n",
       "      <td>...</td>\n",
       "      <td>...</td>\n",
       "    </tr>\n",
       "    <tr>\n",
       "      <th>295</th>\n",
       "      <td>103.221.254.2</td>\n",
       "      <td>44195</td>\n",
       "      <td>BD</td>\n",
       "      <td>Bangladesh</td>\n",
       "      <td>elite proxy</td>\n",
       "      <td>no</td>\n",
       "      <td>no</td>\n",
       "    </tr>\n",
       "    <tr>\n",
       "      <th>296</th>\n",
       "      <td>186.229.25.18</td>\n",
       "      <td>8080</td>\n",
       "      <td>BR</td>\n",
       "      <td>Brazil</td>\n",
       "      <td>elite proxy</td>\n",
       "      <td>no</td>\n",
       "      <td>no</td>\n",
       "    </tr>\n",
       "    <tr>\n",
       "      <th>297</th>\n",
       "      <td>92.222.180.156</td>\n",
       "      <td>8080</td>\n",
       "      <td>FR</td>\n",
       "      <td>France</td>\n",
       "      <td>anonymous</td>\n",
       "      <td>no</td>\n",
       "      <td>no</td>\n",
       "    </tr>\n",
       "    <tr>\n",
       "      <th>298</th>\n",
       "      <td>116.212.129.58</td>\n",
       "      <td>59557</td>\n",
       "      <td>KH</td>\n",
       "      <td>Cambodia</td>\n",
       "      <td>elite proxy</td>\n",
       "      <td>no</td>\n",
       "      <td>no</td>\n",
       "    </tr>\n",
       "    <tr>\n",
       "      <th>299</th>\n",
       "      <td>190.109.167.9</td>\n",
       "      <td>57608</td>\n",
       "      <td>CO</td>\n",
       "      <td>Colombia</td>\n",
       "      <td>elite proxy</td>\n",
       "      <td>no</td>\n",
       "      <td>yes</td>\n",
       "    </tr>\n",
       "  </tbody>\n",
       "</table>\n",
       "<p>300 rows × 7 columns</p>\n",
       "</div>"
      ],
      "text/plain": [
       "                  IP   Port Code     Country    Anonymity Google HTTPS\n",
       "0    207.154.231.213   8080   DE     Germany    anonymous     no    no\n",
       "1        77.104.65.6     80   IR        Iran    anonymous     no   yes\n",
       "2      197.234.35.82  53281   NG     Nigeria  elite proxy     no    no\n",
       "3      161.35.70.249   8080   DE     Germany    anonymous     no    no\n",
       "4        46.4.96.137   3128   DE     Germany    anonymous     no    no\n",
       "..               ...    ...  ...         ...          ...    ...   ...\n",
       "295    103.221.254.2  44195   BD  Bangladesh  elite proxy     no    no\n",
       "296    186.229.25.18   8080   BR      Brazil  elite proxy     no    no\n",
       "297   92.222.180.156   8080   FR      France    anonymous     no    no\n",
       "298   116.212.129.58  59557   KH    Cambodia  elite proxy     no    no\n",
       "299    190.109.167.9  57608   CO    Colombia  elite proxy     no   yes\n",
       "\n",
       "[300 rows x 7 columns]"
      ]
     },
     "execution_count": 4,
     "metadata": {},
     "output_type": "execute_result"
    }
   ],
   "source": [
    "information_dict = {\"IP\": PROXY_IPS,\n",
    "                    \"Port\": PROXY_PORTS,\n",
    "                    \"Code\": PROXY_CODES,\n",
    "                    \"Country\": PROXY_COUNTRIES,\n",
    "                    \"Anonymity\": PROXY_ANONYMITY,\n",
    "                    \"Google\": PROXY_GOOGLE,\n",
    "                    \"HTTPS\": PROXY_HTTPS}\n",
    "\n",
    "df = pd.DataFrame(information_dict)\n",
    "df.to_csv(\"Proxy_table.csv\", sep=\"µ\", index=False)\n",
    "df"
   ]
  },
  {
   "cell_type": "code",
   "execution_count": null,
   "metadata": {},
   "outputs": [],
   "source": []
  },
  {
   "cell_type": "code",
   "execution_count": null,
   "metadata": {},
   "outputs": [],
   "source": []
  }
 ],
 "metadata": {
  "kernelspec": {
   "display_name": "Python 3",
   "language": "python",
   "name": "python3"
  },
  "language_info": {
   "codemirror_mode": {
    "name": "ipython",
    "version": 3
   },
   "file_extension": ".py",
   "mimetype": "text/x-python",
   "name": "python",
   "nbconvert_exporter": "python",
   "pygments_lexer": "ipython3",
   "version": "3.7.6"
  }
 },
 "nbformat": 4,
 "nbformat_minor": 4
}
