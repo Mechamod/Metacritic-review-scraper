{
 "cells": [
  {
   "cell_type": "markdown",
   "metadata": {},
   "source": [
    "# Proxy Scraper\n",
    "This program is intended to scrap https://free-proxy-list.net/ for a list of proxies in order to use for other projects, especially for the Amazon review scraper. This scraper, as all of the others from me, relies on BeautifulSoup 4 for scraping and Pandas for creating DataFrames and saving them."
   ]
  },
  {
   "cell_type": "markdown",
   "metadata": {},
   "source": [
    "### Imports"
   ]
  },
  {
   "cell_type": "code",
   "execution_count": 1,
   "metadata": {},
   "outputs": [],
   "source": [
    "from bs4 import BeautifulSoup\n",
    "import pandas as pd\n",
    "import requests"
   ]
  },
  {
   "cell_type": "markdown",
   "metadata": {},
   "source": [
    "### Constants and lists"
   ]
  },
  {
   "cell_type": "code",
   "execution_count": 2,
   "metadata": {},
   "outputs": [],
   "source": [
    "PROXY_LIST_URL = \"https://free-proxy-list.net/\"\n",
    "PROXY_IPS = []\n",
    "PROXY_PORTS = []\n",
    "PROXY_CODES = []\n",
    "PROXY_COUNTRIES = []\n",
    "PROXY_ANONYMITY = []\n",
    "PROXY_GOOGLE = []\n",
    "PROXY_HTTPS = []"
   ]
  },
  {
   "cell_type": "markdown",
   "metadata": {},
   "source": [
    "### Request and harvest information"
   ]
  },
  {
   "cell_type": "code",
   "execution_count": 3,
   "metadata": {},
   "outputs": [],
   "source": [
    "page = requests.get(PROXY_LIST_URL)\n",
    "soup = BeautifulSoup(page.content, 'lxml')\n",
    "table = soup.find_all(\"tbody\")[0]\n",
    "rows = table.find_all(\"tr\")\n",
    "for row in rows:\n",
    "    tds = row.find_all(\"td\")\n",
    "    PROXY_IPS.append(tds[0].get_text())\n",
    "    PROXY_PORTS.append(tds[1].get_text())\n",
    "    PROXY_CODES.append(tds[2].get_text())\n",
    "    PROXY_COUNTRIES.append(tds[3].get_text())\n",
    "    PROXY_ANONYMITY.append(tds[4].get_text())\n",
    "    PROXY_GOOGLE.append(tds[5].get_text())\n",
    "    PROXY_HTTPS.append(tds[6].get_text())"
   ]
  },
  {
   "cell_type": "markdown",
   "metadata": {},
   "source": [
    "### Saving informaiton harvested to CSV"
   ]
  },
  {
   "cell_type": "code",
   "execution_count": 4,
   "metadata": {},
   "outputs": [
    {
     "data": {
      "text/html": [
       "<div>\n",
       "<style scoped>\n",
       "    .dataframe tbody tr th:only-of-type {\n",
       "        vertical-align: middle;\n",
       "    }\n",
       "\n",
       "    .dataframe tbody tr th {\n",
       "        vertical-align: top;\n",
       "    }\n",
       "\n",
       "    .dataframe thead th {\n",
       "        text-align: right;\n",
       "    }\n",
       "</style>\n",
       "<table border=\"1\" class=\"dataframe\">\n",
       "  <thead>\n",
       "    <tr style=\"text-align: right;\">\n",
       "      <th></th>\n",
       "      <th>IP</th>\n",
       "      <th>Port</th>\n",
       "      <th>Code</th>\n",
       "      <th>Country</th>\n",
       "      <th>Anonymity</th>\n",
       "      <th>Google</th>\n",
       "      <th>HTTPS</th>\n",
       "    </tr>\n",
       "  </thead>\n",
       "  <tbody>\n",
       "    <tr>\n",
       "      <th>0</th>\n",
       "      <td>1.2.169.49</td>\n",
       "      <td>36335</td>\n",
       "      <td>TH</td>\n",
       "      <td>Thailand</td>\n",
       "      <td>elite proxy</td>\n",
       "      <td>no</td>\n",
       "      <td>yes</td>\n",
       "    </tr>\n",
       "    <tr>\n",
       "      <th>1</th>\n",
       "      <td>125.26.99.186</td>\n",
       "      <td>34577</td>\n",
       "      <td>TH</td>\n",
       "      <td>Thailand</td>\n",
       "      <td>elite proxy</td>\n",
       "      <td>no</td>\n",
       "      <td>yes</td>\n",
       "    </tr>\n",
       "    <tr>\n",
       "      <th>2</th>\n",
       "      <td>175.106.10.226</td>\n",
       "      <td>52719</td>\n",
       "      <td>ID</td>\n",
       "      <td>Indonesia</td>\n",
       "      <td>anonymous</td>\n",
       "      <td>no</td>\n",
       "      <td>yes</td>\n",
       "    </tr>\n",
       "    <tr>\n",
       "      <th>3</th>\n",
       "      <td>124.41.211.196</td>\n",
       "      <td>30617</td>\n",
       "      <td>NP</td>\n",
       "      <td>Nepal</td>\n",
       "      <td>elite proxy</td>\n",
       "      <td>no</td>\n",
       "      <td>yes</td>\n",
       "    </tr>\n",
       "    <tr>\n",
       "      <th>4</th>\n",
       "      <td>172.104.47.242</td>\n",
       "      <td>3129</td>\n",
       "      <td>SG</td>\n",
       "      <td>Singapore</td>\n",
       "      <td>elite proxy</td>\n",
       "      <td>no</td>\n",
       "      <td>yes</td>\n",
       "    </tr>\n",
       "    <tr>\n",
       "      <th>...</th>\n",
       "      <td>...</td>\n",
       "      <td>...</td>\n",
       "      <td>...</td>\n",
       "      <td>...</td>\n",
       "      <td>...</td>\n",
       "      <td>...</td>\n",
       "      <td>...</td>\n",
       "    </tr>\n",
       "    <tr>\n",
       "      <th>295</th>\n",
       "      <td>117.252.70.76</td>\n",
       "      <td>8080</td>\n",
       "      <td>IN</td>\n",
       "      <td>India</td>\n",
       "      <td>anonymous</td>\n",
       "      <td>no</td>\n",
       "      <td>yes</td>\n",
       "    </tr>\n",
       "    <tr>\n",
       "      <th>296</th>\n",
       "      <td>37.229.122.18</td>\n",
       "      <td>8080</td>\n",
       "      <td>UA</td>\n",
       "      <td>Ukraine</td>\n",
       "      <td>anonymous</td>\n",
       "      <td>no</td>\n",
       "      <td>yes</td>\n",
       "    </tr>\n",
       "    <tr>\n",
       "      <th>297</th>\n",
       "      <td>102.164.214.225</td>\n",
       "      <td>58640</td>\n",
       "      <td>ZA</td>\n",
       "      <td>South Africa</td>\n",
       "      <td>anonymous</td>\n",
       "      <td>no</td>\n",
       "      <td>yes</td>\n",
       "    </tr>\n",
       "    <tr>\n",
       "      <th>298</th>\n",
       "      <td>113.254.104.207</td>\n",
       "      <td>8380</td>\n",
       "      <td>HK</td>\n",
       "      <td>Hong Kong</td>\n",
       "      <td>transparent</td>\n",
       "      <td>no</td>\n",
       "      <td>no</td>\n",
       "    </tr>\n",
       "    <tr>\n",
       "      <th>299</th>\n",
       "      <td>187.109.181.90</td>\n",
       "      <td>8080</td>\n",
       "      <td>BR</td>\n",
       "      <td>Brazil</td>\n",
       "      <td>transparent</td>\n",
       "      <td>no</td>\n",
       "      <td>no</td>\n",
       "    </tr>\n",
       "  </tbody>\n",
       "</table>\n",
       "<p>300 rows × 7 columns</p>\n",
       "</div>"
      ],
      "text/plain": [
       "                  IP   Port Code       Country    Anonymity Google HTTPS\n",
       "0         1.2.169.49  36335   TH      Thailand  elite proxy     no   yes\n",
       "1      125.26.99.186  34577   TH      Thailand  elite proxy     no   yes\n",
       "2     175.106.10.226  52719   ID     Indonesia    anonymous     no   yes\n",
       "3     124.41.211.196  30617   NP         Nepal  elite proxy     no   yes\n",
       "4     172.104.47.242   3129   SG     Singapore  elite proxy     no   yes\n",
       "..               ...    ...  ...           ...          ...    ...   ...\n",
       "295    117.252.70.76   8080   IN         India    anonymous     no   yes\n",
       "296    37.229.122.18   8080   UA       Ukraine    anonymous     no   yes\n",
       "297  102.164.214.225  58640   ZA  South Africa    anonymous     no   yes\n",
       "298  113.254.104.207   8380   HK     Hong Kong  transparent     no    no\n",
       "299   187.109.181.90   8080   BR        Brazil  transparent     no    no\n",
       "\n",
       "[300 rows x 7 columns]"
      ]
     },
     "execution_count": 4,
     "metadata": {},
     "output_type": "execute_result"
    }
   ],
   "source": [
    "information_dict = {\"IP\": PROXY_IPS,\n",
    "                    \"Port\": PROXY_PORTS,\n",
    "                    \"Code\": PROXY_CODES,\n",
    "                    \"Country\": PROXY_COUNTRIES,\n",
    "                    \"Anonymity\": PROXY_ANONYMITY,\n",
    "                    \"Google\": PROXY_GOOGLE,\n",
    "                    \"HTTPS\": PROXY_HTTPS}\n",
    "\n",
    "df = pd.DataFrame(information_dict)\n",
    "df.to_csv(\"Proxy_table.csv\", sep=\"µ\")\n",
    "df"
   ]
  },
  {
   "cell_type": "code",
   "execution_count": null,
   "metadata": {},
   "outputs": [],
   "source": []
  }
 ],
 "metadata": {
  "kernelspec": {
   "display_name": "Python 3",
   "language": "python",
   "name": "python3"
  },
  "language_info": {
   "codemirror_mode": {
    "name": "ipython",
    "version": 3
   },
   "file_extension": ".py",
   "mimetype": "text/x-python",
   "name": "python",
   "nbconvert_exporter": "python",
   "pygments_lexer": "ipython3",
   "version": "3.7.6"
  }
 },
 "nbformat": 4,
 "nbformat_minor": 4
}
